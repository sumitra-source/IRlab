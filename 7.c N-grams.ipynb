{
 "cells": [
  {
   "cell_type": "code",
   "execution_count": 1,
   "id": "a71c85a0-43f0-4572-95bd-e89b4719f1ea",
   "metadata": {},
   "outputs": [],
   "source": [
    "#Import textblob\n",
    "from textblob import TextBlob"
   ]
  },
  {
   "cell_type": "code",
   "execution_count": 2,
   "id": "83c9ffe8-3e39-485b-a6e2-d764fede5366",
   "metadata": {},
   "outputs": [
    {
     "data": {
      "text/plain": [
       "[WordList(['I']), WordList(['am']), WordList(['learning']), WordList(['NLP'])]"
      ]
     },
     "execution_count": 2,
     "metadata": {},
     "output_type": "execute_result"
    }
   ],
   "source": [
    "Text = \"I am learning NLP\"\n",
    "#For unigram : Use n = 1\n",
    "TextBlob(Text).ngrams(1)"
   ]
  },
  {
   "cell_type": "code",
   "execution_count": null,
   "id": "1e7436be-0ac3-4372-bcbd-6c1e1abc4a4c",
   "metadata": {},
   "outputs": [],
   "source": []
  }
 ],
 "metadata": {
  "kernelspec": {
   "display_name": "Python 3 (ipykernel)",
   "language": "python",
   "name": "python3"
  },
  "language_info": {
   "codemirror_mode": {
    "name": "ipython",
    "version": 3
   },
   "file_extension": ".py",
   "mimetype": "text/x-python",
   "name": "python",
   "nbconvert_exporter": "python",
   "pygments_lexer": "ipython3",
   "version": "3.9.7"
  }
 },
 "nbformat": 4,
 "nbformat_minor": 5
}
